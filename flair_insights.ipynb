{
  "nbformat": 4,
  "nbformat_minor": 0,
  "metadata": {
    "colab": {
      "provenance": [],
      "authorship_tag": "ABX9TyO+q324i7gTWF4M7FQncn4m",
      "include_colab_link": true
    },
    "kernelspec": {
      "name": "python3",
      "display_name": "Python 3"
    },
    "language_info": {
      "name": "python"
    }
  },
  "cells": [
    {
      "cell_type": "markdown",
      "metadata": {
        "id": "view-in-github",
        "colab_type": "text"
      },
      "source": [
        "<a href=\"https://colab.research.google.com/github/IsaiyarasanD/Flair-Insights/blob/main/flair_insights.ipynb\" target=\"_parent\"><img src=\"https://colab.research.google.com/assets/colab-badge.svg\" alt=\"Open In Colab\"/></a>"
      ]
    },
    {
      "cell_type": "code",
      "source": [
        "import os\n",
        "import json\n",
        "from bs4 import BeautifulSoup\n",
        "\n",
        "def extract_data(html_file):\n",
        "    with open(html_file, 'r', encoding='utf-8') as file:\n",
        "        soup = BeautifulSoup(file, 'html.parser')\n",
        "\n",
        "        # Extracting text\n",
        "        text_data = soup.get_text()\n",
        "\n",
        "        # Extracting images\n",
        "        image_tags = soup.find_all('img')\n",
        "        image_urls = [img['src'] for img in image_tags]\n",
        "\n",
        "        # Extracting links\n",
        "        link_tags = soup.find_all('a')\n",
        "        links = [link['href'] for link in link_tags]\n",
        "\n",
        "        return {'text': text_data, 'images': image_urls, 'links': links}\n",
        "\n",
        "def store_data(data, output_file):\n",
        "    with open(output_file, 'w', encoding='utf-8') as file:\n",
        "        json.dump(data, file, indent=4)\n",
        "\n",
        "def main():\n",
        "    # Assuming the attached file is named 'attached_file.html'\n",
        "    html_file = 'attached_file.html'\n",
        "\n",
        "    # Check if the file exists\n",
        "    if not os.path.exists(html_file):\n",
        "        print(f\"Error: File '{html_file}' does not exist.\")\n",
        "        return\n",
        "\n",
        "    # Extract data from the HTML file\n",
        "    extracted_data = extract_data(html_file)\n",
        "\n",
        "    # Store the scraped data in JSON format\n",
        "    output_file = 'scraped_data.json'\n",
        "    store_data(extracted_data, output_file)\n",
        "    print(f\"Scraped data stored in '{output_file}'.\")\n",
        "\n",
        "if __name__ == \"__main__\":\n",
        "    main()\n"
      ],
      "metadata": {
        "id": "UHkGeM2qIXi4",
        "outputId": "3dcaf3ba-2ec1-4215-dc0f-058b3e6f0a24",
        "colab": {
          "base_uri": "https://localhost:8080/"
        }
      },
      "execution_count": null,
      "outputs": [
        {
          "output_type": "stream",
          "name": "stdout",
          "text": [
            "Error: File 'attached_file.html' does not exist.\n"
          ]
        }
      ]
    }
  ]
}